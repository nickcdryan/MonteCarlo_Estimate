{
 "cells": [
  {
   "cell_type": "code",
   "execution_count": null,
   "metadata": {
    "collapsed": true
   },
   "outputs": [],
   "source": [
    "#DESCRIPTION\n",
    "\n",
    "#This program helps project planners estimate project timelines and evaluate risks by modelling \n",
    "#project outcomes using Monte Carlo methods. Given a set of project tasks, each with an associated time estimate\n",
    "#and attached confidence level, the program relies on repeated random sampling to obtain probabilistic and cumulative\n",
    "#distribution functions. With this output, project planners and teams have more information about the risks associated \n",
    "#with different project timelines than they would get from a simple, single-value target timeline. \n",
    "\n",
    "#The program could be extended in a number of ways in the future: modelling outcomes for a given discipline,\n",
    "#modelling outcomes of sequential  disciplines, error correction of individuals' overestimation/underestimation\n",
    "#tendencies based on previous performance, etc.\n"
   ]
  },
  {
   "cell_type": "code",
   "execution_count": 1,
   "metadata": {
    "collapsed": true
   },
   "outputs": [],
   "source": [
    "import csv as csv\n",
    "import pandas as pd\n",
    "import numpy as np\n",
    "import scipy.stats as stats\n"
   ]
  },
  {
   "cell_type": "code",
   "execution_count": 2,
   "metadata": {
    "collapsed": false
   },
   "outputs": [
    {
     "data": {
      "text/html": [
       "<div>\n",
       "<table border=\"1\" class=\"dataframe\">\n",
       "  <thead>\n",
       "    <tr style=\"text-align: right;\">\n",
       "      <th></th>\n",
       "      <th>task number</th>\n",
       "      <th>discipline</th>\n",
       "      <th>task type</th>\n",
       "      <th>estimator</th>\n",
       "      <th>estimate (hours)</th>\n",
       "      <th>confidence</th>\n",
       "      <th>comb</th>\n",
       "    </tr>\n",
       "  </thead>\n",
       "  <tbody>\n",
       "    <tr>\n",
       "      <th>0</th>\n",
       "      <td>1</td>\n",
       "      <td>ux</td>\n",
       "      <td>wireframe</td>\n",
       "      <td>jess</td>\n",
       "      <td>10</td>\n",
       "      <td>0.7</td>\n",
       "      <td>7.0</td>\n",
       "    </tr>\n",
       "    <tr>\n",
       "      <th>1</th>\n",
       "      <td>2</td>\n",
       "      <td>ux</td>\n",
       "      <td>ux documentation</td>\n",
       "      <td>jess</td>\n",
       "      <td>5</td>\n",
       "      <td>0.9</td>\n",
       "      <td>4.5</td>\n",
       "    </tr>\n",
       "    <tr>\n",
       "      <th>2</th>\n",
       "      <td>3</td>\n",
       "      <td>front</td>\n",
       "      <td>setup</td>\n",
       "      <td>jason</td>\n",
       "      <td>3</td>\n",
       "      <td>0.9</td>\n",
       "      <td>2.7</td>\n",
       "    </tr>\n",
       "    <tr>\n",
       "      <th>3</th>\n",
       "      <td>4</td>\n",
       "      <td>front</td>\n",
       "      <td>build</td>\n",
       "      <td>jason</td>\n",
       "      <td>20</td>\n",
       "      <td>0.6</td>\n",
       "      <td>12.0</td>\n",
       "    </tr>\n",
       "    <tr>\n",
       "      <th>4</th>\n",
       "      <td>5</td>\n",
       "      <td>back</td>\n",
       "      <td>server map</td>\n",
       "      <td>tony</td>\n",
       "      <td>20</td>\n",
       "      <td>0.5</td>\n",
       "      <td>10.0</td>\n",
       "    </tr>\n",
       "    <tr>\n",
       "      <th>5</th>\n",
       "      <td>6</td>\n",
       "      <td>back</td>\n",
       "      <td>integration</td>\n",
       "      <td>tony</td>\n",
       "      <td>10</td>\n",
       "      <td>0.6</td>\n",
       "      <td>6.0</td>\n",
       "    </tr>\n",
       "    <tr>\n",
       "      <th>6</th>\n",
       "      <td>7</td>\n",
       "      <td>ui</td>\n",
       "      <td>styleguide</td>\n",
       "      <td>aaron</td>\n",
       "      <td>6</td>\n",
       "      <td>0.9</td>\n",
       "      <td>5.4</td>\n",
       "    </tr>\n",
       "    <tr>\n",
       "      <th>7</th>\n",
       "      <td>8</td>\n",
       "      <td>ui</td>\n",
       "      <td>designs</td>\n",
       "      <td>aaron</td>\n",
       "      <td>20</td>\n",
       "      <td>0.8</td>\n",
       "      <td>16.0</td>\n",
       "    </tr>\n",
       "    <tr>\n",
       "      <th>8</th>\n",
       "      <td>9</td>\n",
       "      <td>pm</td>\n",
       "      <td>project plan</td>\n",
       "      <td>nick</td>\n",
       "      <td>4</td>\n",
       "      <td>0.8</td>\n",
       "      <td>3.2</td>\n",
       "    </tr>\n",
       "    <tr>\n",
       "      <th>9</th>\n",
       "      <td>10</td>\n",
       "      <td>pm</td>\n",
       "      <td>check ups</td>\n",
       "      <td>nick</td>\n",
       "      <td>20</td>\n",
       "      <td>1.0</td>\n",
       "      <td>20.0</td>\n",
       "    </tr>\n",
       "  </tbody>\n",
       "</table>\n",
       "</div>"
      ],
      "text/plain": [
       "   task number discipline         task type estimator  estimate (hours)  \\\n",
       "0            1         ux         wireframe      jess                10   \n",
       "1            2         ux  ux documentation      jess                 5   \n",
       "2            3      front             setup     jason                 3   \n",
       "3            4      front             build     jason                20   \n",
       "4            5       back        server map      tony                20   \n",
       "5            6       back       integration      tony                10   \n",
       "6            7         ui        styleguide     aaron                 6   \n",
       "7            8         ui           designs     aaron                20   \n",
       "8            9         pm      project plan      nick                 4   \n",
       "9           10         pm         check ups      nick                20   \n",
       "\n",
       "   confidence  comb  \n",
       "0         0.7   7.0  \n",
       "1         0.9   4.5  \n",
       "2         0.9   2.7  \n",
       "3         0.6  12.0  \n",
       "4         0.5  10.0  \n",
       "5         0.6   6.0  \n",
       "6         0.9   5.4  \n",
       "7         0.8  16.0  \n",
       "8         0.8   3.2  \n",
       "9         1.0  20.0  "
      ]
     },
     "execution_count": 2,
     "metadata": {},
     "output_type": "execute_result"
    }
   ],
   "source": [
    "csv_file_object = csv.reader(open('sample_project_estimates.csv', 'rU')) \n",
    "header = csv_file_object.next() \n",
    "data=[] \n",
    "\n",
    "for row in csv_file_object:\n",
    "    data.append(row)\n",
    "data = np.array(data)\n",
    "\n",
    "df = pd.read_csv('sample_project_estimates.csv', header=0)\n",
    "df['comb'] = df['estimate (hours)'] * df['confidence']\n",
    "df"
   ]
  },
  {
   "cell_type": "code",
   "execution_count": 3,
   "metadata": {
    "collapsed": false
   },
   "outputs": [],
   "source": [
    "#Import inline plots\n",
    "%matplotlib inline \n",
    "import matplotlib.pyplot as plt"
   ]
  },
  {
   "cell_type": "code",
   "execution_count": 4,
   "metadata": {
    "collapsed": false
   },
   "outputs": [
    {
     "name": "stdout",
     "output_type": "stream",
     "text": [
      "slope is -10\n",
      "intercept is 10\n"
     ]
    }
   ],
   "source": [
    "#We need our confidence about an estimate to appropriately scale the probability \n",
    "#distribution to \"narrow\" for high-confidence estimates and \"widen\" for low-confidence estimates\n",
    "\n",
    "#We'll use a normal distribution and convert the confidence ([0,1] interval) into standard deviation\n",
    "\n",
    "#I think 10% confidence should give us about scale=9 (scale is a parameter of numpy.random.normal realted \n",
    "#to standard distribution), and confidence of 90% should give us scale=1. Solving the \n",
    "#system of equations will give a linear function.\n",
    "\n",
    "alpha = np.matrix([[.1, 1],[.9, 1]])\n",
    "beta = np.matrix([[9],[1]])\n",
    "\n",
    "slopeandintercept = np.linalg.solve(alpha, beta)\n",
    "print \"slope is %d\" % slopeandintercept[0]\n",
    "print \"intercept is %d\" % slopeandintercept[1]\n",
    "\n",
    "#10(x-1)^2 gets us a curve with similar output but we'll stick with a linear function for now"
   ]
  },
  {
   "cell_type": "code",
   "execution_count": 7,
   "metadata": {
    "collapsed": false,
    "scrolled": true
   },
   "outputs": [],
   "source": [
    "#Converts confidence to a scaling factor for a normal distribution. Added .01 to the intercept to keep confidence \n",
    "#levels of 100% (1.0) above zero. \n",
    "def confidence_to_scale(confidence):\n",
    "    return -10 * confidence + 10.01\n",
    "\n",
    "#Takes an estimate, confidence level, integer and returns a normal distribution with mean at the estimate, \n",
    "#confidence level correlated to distribution scale, and a number of values sampled from that \n",
    "#distribution equal to parameter \"size\"\n",
    "def computepdf(estimate, confidence, size):\n",
    "    return np.random.normal(loc=estimate, scale = confidence_to_scale(confidence), size = size)\n",
    "\n",
    "#Computes probability density function for all tasks in the data, samples once from each \n",
    "#distribution, and sums the samples to give a sample total project duration\n",
    "def singleproject(data):\n",
    "    sampleduration = 0\n",
    "    for i in range(len(data)):\n",
    "        sampleduration += computepdf(data[i,4], float(data[i,5]), 1)\n",
    "    return sampleduration\n",
    "    \n",
    "#Returns a list of sample total project durations \n",
    "def multisimul(number):\n",
    "    simularray = []\n",
    "    for i in range(number):\n",
    "        simularray.append(singleproject(data))\n",
    "    result = [item for sublist in simularray for item in sublist]\n",
    "    result = [int(round(n, 0)) for n in result]\n",
    "    return result\n",
    "    \n",
    "#Plots the probability distribution and cumulative distribution     \n",
    "def plotpdfcdf(number):\n",
    "    result = multisimul(number)\n",
    "    plt.hist(result, 30, normed=1, histtype='step', cumulative=False)\n",
    "    plt.hist(result, 30, normed=1, histtype='step', cumulative=True)"
   ]
  },
  {
   "cell_type": "code",
   "execution_count": 6,
   "metadata": {
    "collapsed": false,
    "scrolled": true
   },
   "outputs": [
    {
     "data": {
      "image/png": "[encoded data removed]",
      "text/plain": [
       "<matplotlib.figure.Figure at 0x102835cd0>"
      ]
     },
     "metadata": {},
     "output_type": "display_data"
    }
   ],
   "source": [
    "plotpdfcdf(1000)"
   ]
  }
 ],
 "metadata": {
  "kernelspec": {
   "display_name": "Python 2",
   "language": "python",
   "name": "python2"
  },
  "language_info": {
   "codemirror_mode": {
    "name": "ipython",
    "version": 2
   },
   "file_extension": ".py",
   "mimetype": "text/x-python",
   "name": "python",
   "nbconvert_exporter": "python",
   "pygments_lexer": "ipython2",
   "version": "2.7.12"
  }
 },
 "nbformat": 4,
 "nbformat_minor": 0
}
